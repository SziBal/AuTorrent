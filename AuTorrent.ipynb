{
 "cells": [
  {
   "cell_type": "code",
   "execution_count": 70,
   "metadata": {},
   "outputs": [],
   "source": [
    "from bs4 import BeautifulSoup\n",
    "import qbittorrentapi\n",
    "import requests"
   ]
  },
  {
   "cell_type": "code",
   "execution_count": 71,
   "metadata": {},
   "outputs": [],
   "source": [
    "#https://stackoverflow.com/questions/23102833/how-to-scrape-a-website-which-requires-login-using-python-and-beautifulsoup\n",
    "\n",
    "data = {\n",
    "    'nev': '<Username>',\n",
    "    'pass': '<Password>',\n",
    "}\n",
    "\n",
    "with requests.Session() as s:\n",
    "    response = s.post('https://ncore.pro/login.php' , data)\n",
    "    hitnrun= s.get('https://ncore.pro/hitnrun.php')\n",
    "    soup = BeautifulSoup(hitnrun.text, 'html.parser')\n",
    "    torrent_box = soup.find('div',{'class':'box_torrent_all'})\n",
    "    links = [\"https://ncore.pro/\"+i['href'] for i in torrent_box.find_all('a')]\n",
    "    downloadlinks = []\n",
    "    for link in links:\n",
    "        response = s.get(link)\n",
    "        soup = BeautifulSoup(response.text, 'html.parser')\n",
    "        downloadlinks.append(\"https://ncore.pro/\"+soup.find('div',{'class':'download'}).find('a')['href'])"
   ]
  },
  {
   "cell_type": "code",
   "execution_count": 72,
   "metadata": {},
   "outputs": [],
   "source": [
    "#https://qbittorrent-api.readthedocs.io/en/latest/\n",
    "qbt_client = qbittorrentapi.Client(\n",
    "    host='localhost',\n",
    "    port='port as an int',\n",
    "    username='<Username>',\n",
    "    password='<Username>',\n",
    ")\n",
    "\n",
    "try:\n",
    "    qbt_client.auth_log_in()\n",
    "except qbittorrentapi.LoginFailed as e:\n",
    "    print(e)\n"
   ]
  },
  {
   "cell_type": "code",
   "execution_count": 73,
   "metadata": {
    "scrolled": true
   },
   "outputs": [],
   "source": [
    "for torrent in qbt_client.torrents_info():\n",
    "    if torrent.time_active/60/60 > 168:\n",
    "        qbt_client.torrents_delete(delete_files=True, torrent_hashes=torrent.hash)\n",
    "\n",
    "for torrent in downloadlinks:\n",
    "    qbt_client.torrents_add(urls=torrent,is_sequential_download=True)"
   ]
  },
  {
   "cell_type": "code",
   "execution_count": null,
   "metadata": {},
   "outputs": [],
   "source": []
  }
 ],
 "metadata": {
  "kernelspec": {
   "display_name": "Python 3",
   "language": "python",
   "name": "python3"
  },
  "language_info": {
   "codemirror_mode": {
    "name": "ipython",
    "version": 3
   },
   "file_extension": ".py",
   "mimetype": "text/x-python",
   "name": "python",
   "nbconvert_exporter": "python",
   "pygments_lexer": "ipython3",
   "version": "3.9.0"
  }
 },
 "nbformat": 4,
 "nbformat_minor": 4
}
